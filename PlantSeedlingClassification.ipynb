{
 "cells": [
  {
   "cell_type": "markdown",
   "metadata": {
    "id": "7_sd9TD4u3cn"
   },
   "source": [
    "### **Plant Seedling Classification -- To create a classifier capable of determining a plant's species from a photo**"
   ]
  },
  {
   "cell_type": "code",
   "execution_count": 208,
   "metadata": {
    "colab": {
     "base_uri": "https://localhost:8080/",
     "height": 36
    },
    "executionInfo": {
     "elapsed": 258,
     "status": "ok",
     "timestamp": 1615158141176,
     "user": {
      "displayName": "Anupam Vaish",
      "photoUrl": "",
      "userId": "05967575612017638343"
     },
     "user_tz": 420
    },
    "id": "K8-Fcpa6u2fr",
    "outputId": "d98d3ae7-fa4d-489a-9a64-7c007bef6b40"
   },
   "outputs": [
    {
     "data": {
      "application/vnd.google.colaboratory.intrinsic+json": {
       "type": "string"
      },
      "text/plain": [
       "'2.4.1'"
      ]
     },
     "execution_count": 208,
     "metadata": {
      "tags": []
     },
     "output_type": "execute_result"
    }
   ],
   "source": [
    "# Loading Libraries\n",
    "import cv2\n",
    "import numpy as np\n",
    "import pandas as pd\n",
    "\n",
    "import seaborn as sns\n",
    "import matplotlib.pyplot as plt\n",
    "%matplotlib inline\n",
    "\n",
    "from sklearn import svm\n",
    "from sklearn.model_selection import train_test_split\n",
    "from sklearn.metrics import classification_report, confusion_matrix\n",
    "from tensorflow.keras.callbacks import ModelCheckpoint, EarlyStopping\n",
    "from keras.optimizers import Adam\n",
    "from tensorflow.keras import datasets, models, layers, optimizers\n",
    "import tensorflow as tf\n",
    "tf.__version__"
   ]
  },
  {
   "cell_type": "code",
   "execution_count": 209,
   "metadata": {
    "colab": {
     "base_uri": "https://localhost:8080/"
    },
    "executionInfo": {
     "elapsed": 564,
     "status": "ok",
     "timestamp": 1615158141489,
     "user": {
      "displayName": "Anupam Vaish",
      "photoUrl": "",
      "userId": "05967575612017638343"
     },
     "user_tz": 420
    },
    "id": "4sw7ntMgvfGs",
    "outputId": "363eefe3-396c-4fdc-ddd6-4fa99f09ab0a"
   },
   "outputs": [
    {
     "name": "stdout",
     "output_type": "stream",
     "text": [
      "Drive already mounted at /content/drive; to attempt to forcibly remount, call drive.mount(\"/content/drive\", force_remount=True).\n"
     ]
    }
   ],
   "source": [
    "# Loading the dataset\n",
    "from google.colab import drive\n",
    "drive.mount('/content/drive')\n",
    "labels = pd.read_csv('/content/drive/My Drive/ComputerVision/Project/Labels.csv')\n",
    "img_array = np.load('/content/drive/My Drive/ComputerVision/Project/images.npy')"
   ]
  },
  {
   "cell_type": "code",
   "execution_count": 210,
   "metadata": {
    "colab": {
     "base_uri": "https://localhost:8080/",
     "height": 206
    },
    "executionInfo": {
     "elapsed": 685,
     "status": "ok",
     "timestamp": 1615158141617,
     "user": {
      "displayName": "Anupam Vaish",
      "photoUrl": "",
      "userId": "05967575612017638343"
     },
     "user_tz": 420
    },
    "id": "L9BGeaRwwNrO",
    "outputId": "5c8a432e-bc9c-4abd-b6e2-a13cb544ae81"
   },
   "outputs": [
    {
     "data": {
      "text/html": [
       "<div>\n",
       "<style scoped>\n",
       "    .dataframe tbody tr th:only-of-type {\n",
       "        vertical-align: middle;\n",
       "    }\n",
       "\n",
       "    .dataframe tbody tr th {\n",
       "        vertical-align: top;\n",
       "    }\n",
       "\n",
       "    .dataframe thead th {\n",
       "        text-align: right;\n",
       "    }\n",
       "</style>\n",
       "<table border=\"1\" class=\"dataframe\">\n",
       "  <thead>\n",
       "    <tr style=\"text-align: right;\">\n",
       "      <th></th>\n",
       "      <th>Label</th>\n",
       "    </tr>\n",
       "  </thead>\n",
       "  <tbody>\n",
       "    <tr>\n",
       "      <th>0</th>\n",
       "      <td>Small-flowered Cranesbill</td>\n",
       "    </tr>\n",
       "    <tr>\n",
       "      <th>1</th>\n",
       "      <td>Small-flowered Cranesbill</td>\n",
       "    </tr>\n",
       "    <tr>\n",
       "      <th>2</th>\n",
       "      <td>Small-flowered Cranesbill</td>\n",
       "    </tr>\n",
       "    <tr>\n",
       "      <th>3</th>\n",
       "      <td>Small-flowered Cranesbill</td>\n",
       "    </tr>\n",
       "    <tr>\n",
       "      <th>4</th>\n",
       "      <td>Small-flowered Cranesbill</td>\n",
       "    </tr>\n",
       "  </tbody>\n",
       "</table>\n",
       "</div>"
      ],
      "text/plain": [
       "                       Label\n",
       "0  Small-flowered Cranesbill\n",
       "1  Small-flowered Cranesbill\n",
       "2  Small-flowered Cranesbill\n",
       "3  Small-flowered Cranesbill\n",
       "4  Small-flowered Cranesbill"
      ]
     },
     "execution_count": 210,
     "metadata": {
      "tags": []
     },
     "output_type": "execute_result"
    }
   ],
   "source": [
    "# Visualizing the Label data in the Datasaet\n",
    "labels.head()"
   ]
  },
  {
   "cell_type": "markdown",
   "metadata": {
    "id": "WvPhAX5B2BU2"
   },
   "source": [
    "Shape of DataSet"
   ]
  },
  {
   "cell_type": "code",
   "execution_count": 211,
   "metadata": {
    "colab": {
     "base_uri": "https://localhost:8080/"
    },
    "executionInfo": {
     "elapsed": 679,
     "status": "ok",
     "timestamp": 1615158141618,
     "user": {
      "displayName": "Anupam Vaish",
      "photoUrl": "",
      "userId": "05967575612017638343"
     },
     "user_tz": 420
    },
    "id": "3VjtqCy8xjB0",
    "outputId": "293b7079-c963-4888-f3bb-c28dfdf32705"
   },
   "outputs": [
    {
     "name": "stdout",
     "output_type": "stream",
     "text": [
      "Shape of Image data-- (4750, 128, 128, 3)\n"
     ]
    }
   ],
   "source": [
    "print(\"Shape of Image data--\",img_array.shape)"
   ]
  },
  {
   "cell_type": "code",
   "execution_count": 212,
   "metadata": {
    "colab": {
     "base_uri": "https://localhost:8080/"
    },
    "executionInfo": {
     "elapsed": 673,
     "status": "ok",
     "timestamp": 1615158141619,
     "user": {
      "displayName": "Anupam Vaish",
      "photoUrl": "",
      "userId": "05967575612017638343"
     },
     "user_tz": 420
    },
    "id": "7jFfwaXXxisj",
    "outputId": "0b46bea5-b80c-4920-b3bc-7ab086946161"
   },
   "outputs": [
    {
     "name": "stdout",
     "output_type": "stream",
     "text": [
      "Shape of Labels Data-- (4750, 1)\n"
     ]
    }
   ],
   "source": [
    "print(\"Shape of Labels Data--\",labels.shape)"
   ]
  },
  {
   "cell_type": "code",
   "execution_count": 213,
   "metadata": {
    "colab": {
     "base_uri": "https://localhost:8080/",
     "height": 36
    },
    "executionInfo": {
     "elapsed": 667,
     "status": "ok",
     "timestamp": 1615158141620,
     "user": {
      "displayName": "Anupam Vaish",
      "photoUrl": "",
      "userId": "05967575612017638343"
     },
     "user_tz": 420
    },
    "id": "F7x4PRLAyDDc",
    "outputId": "0a95c86b-45b6-46ac-b798-08dafebafcb9"
   },
   "outputs": [
    {
     "data": {
      "application/vnd.google.colaboratory.intrinsic+json": {
       "type": "string"
      },
      "text/plain": [
       "'Small-flowered Cranesbill'"
      ]
     },
     "execution_count": 213,
     "metadata": {
      "tags": []
     },
     "output_type": "execute_result"
    }
   ],
   "source": [
    "# Visualizing the Label data in the Datasaet\n",
    "labels['Label'][0]"
   ]
  },
  {
   "cell_type": "code",
   "execution_count": 214,
   "metadata": {
    "colab": {
     "base_uri": "https://localhost:8080/",
     "height": 268
    },
    "executionInfo": {
     "elapsed": 856,
     "status": "ok",
     "timestamp": 1615158141816,
     "user": {
      "displayName": "Anupam Vaish",
      "photoUrl": "",
      "userId": "05967575612017638343"
     },
     "user_tz": 420
    },
    "id": "11FLm7aIxY3t",
    "outputId": "e0cc7121-96f1-42fd-fe87-b97467105eab"
   },
   "outputs": [
    {
     "data": {
      "image/png": "[encoded data removed]",
      "text/plain": [
       "<Figure size 432x288 with 1 Axes>"
      ]
     },
     "metadata": {
      "needs_background": "light",
      "tags": []
     },
     "output_type": "display_data"
    }
   ],
   "source": [
    "# Visualizing the Image data in the Datasaet\n",
    "img_temp=img_array[3]\n",
    "plt.imshow(img_temp,cmap='gray')\n",
    "plt.show()"
   ]
  },
  {
   "cell_type": "markdown",
   "metadata": {
    "id": "c-mt8lsinSU2"
   },
   "source": [
    "### Data PreProcessing"
   ]
  },
  {
   "cell_type": "code",
   "execution_count": 216,
   "metadata": {
    "executionInfo": {
     "elapsed": 1415,
     "status": "ok",
     "timestamp": 1615158142388,
     "user": {
      "displayName": "Anupam Vaish",
      "photoUrl": "",
      "userId": "05967575612017638343"
     },
     "user_tz": 420
    },
    "id": "tIOsVCV0bo9E"
   },
   "outputs": [],
   "source": [
    "# Function for converting image tpo HSV format and creating mask for Green part of the image\n",
    "def create_mask_seedling(image):\n",
    "    image_hsv = cv2.cvtColor(image, cv2.COLOR_BGR2HSV)\n",
    "\n",
    "    sensitivity = 35\n",
    "    lower_hsv = np.array([60 - sensitivity, 100, 50])\n",
    "    upper_hsv = np.array([60 + sensitivity, 255, 255])\n",
    "\n",
    "    mask = cv2.inRange(image_hsv, lower_hsv, upper_hsv)\n",
    "    kernel = cv2.getStructuringElement(cv2.MORPH_ELLIPSE, (11,11))\n",
    "    mask = cv2.morphologyEx(mask, cv2.MORPH_CLOSE, kernel)\n",
    "    return mask\n",
    "\n",
    "# Function for filtering out only Green part of the image, masking\n",
    "def segment_seedling(image):\n",
    "    mask = create_mask_for_plant(image)\n",
    "    output = cv2.bitwise_and(image, image, mask = mask)\n",
    "    return output\n",
    "\n",
    "# Function to sharpen the image, to remove the dots in the green part of the image, Guassian Blur\n",
    "def sharpen_seeedling(image):\n",
    "    image_blurred = cv2.GaussianBlur(image, (0, 0), 3)\n",
    "    image_sharp = cv2.addWeighted(image, 1.5, image_blurred, -0.5, 0)\n",
    "    return image_sharp\n"
   ]
  },
  {
   "cell_type": "code",
   "execution_count": 217,
   "metadata": {
    "executionInfo": {
     "elapsed": 2249,
     "status": "ok",
     "timestamp": 1615158143225,
     "user": {
      "displayName": "Anupam Vaish",
      "photoUrl": "",
      "userId": "05967575612017638343"
     },
     "user_tz": 420
    },
    "id": "LnvKNJRwbp-q"
   },
   "outputs": [],
   "source": [
    "# Normalization, Gaussian Blurring\n",
    "trainImg = []\n",
    "for i in range(img_array.shape[0]):\n",
    "  img=img_array[i]\n",
    "  img = cv2.resize(img,dsize=(32,32))\n",
    "  img_stack = segment_plant(img)\n",
    "  img_stack = sharpen_image(img_stack)\n",
    "  img_stack = cv2.cvtColor( img_stack, cv2.COLOR_RGB2GRAY )\n",
    "  img_stack = np.reshape(img_stack,(32,32,1))\n",
    "  #print(img_stack.shape)\n",
    "  trainImg.append(np.concatenate((np.array(img),np.array(img_stack)),axis=2))\n",
    "#print(new_img.shape)\n",
    "#plt.imshow(new_img)\n",
    "trainImg=np.array(trainImg)\n",
    "trainImg=trainImg* 1/255"
   ]
  },
  {
   "cell_type": "code",
   "execution_count": 218,
   "metadata": {
    "colab": {
     "base_uri": "https://localhost:8080/",
     "height": 268
    },
    "executionInfo": {
     "elapsed": 2375,
     "status": "ok",
     "timestamp": 1615158143357,
     "user": {
      "displayName": "Anupam Vaish",
      "photoUrl": "",
      "userId": "05967575612017638343"
     },
     "user_tz": 420
    },
    "id": "ZMcQMWUFwg9o",
    "outputId": "4c33e586-194f-4be2-caa6-32ea5b9136a3"
   },
   "outputs": [
    {
     "data": {
      "image/png": "[encoded data removed]",
      "text/plain": [
       "<Figure size 1800x288 with 3 Axes>"
      ]
     },
     "metadata": {
      "tags": []
     },
     "output_type": "display_data"
    }
   ],
   "source": [
    "# Visulaization after pre-processing\n",
    "fig = plt.figure(figsize=(25,4))\n",
    "fig.add_subplot(1, 3 , 1, xticks=[], yticks=[])\n",
    "tmp=trainImg[0]\n",
    "plt.title(labels['Label'][0])\n",
    "plt.imshow(tmp,cmap='gray')\n",
    "\n",
    "fig.add_subplot(1, 3 , 2, xticks=[], yticks=[])\n",
    "tmp1=trainImg[600]\n",
    "plt.title(labels['Label'][600])\n",
    "plt.imshow(tmp1,cmap='gray')\n",
    "\n",
    "fig.add_subplot(1, 3 , 3, xticks=[], yticks=[])\n",
    "tmp1=trainImg[1500]\n",
    "plt.title(labels['Label'][1500])\n",
    "plt.imshow(tmp1,cmap='gray')\n",
    "\n",
    "plt.show()\n"
   ]
  },
  {
   "cell_type": "code",
   "execution_count": 219,
   "metadata": {
    "colab": {
     "base_uri": "https://localhost:8080/",
     "height": 678
    },
    "executionInfo": {
     "elapsed": 2518,
     "status": "ok",
     "timestamp": 1615158143508,
     "user": {
      "displayName": "Anupam Vaish",
      "photoUrl": "",
      "userId": "05967575612017638343"
     },
     "user_tz": 420
    },
    "id": "rcsdeLYQxpjs",
    "outputId": "1b071a72-78d7-4ddb-e7da-97b538de896a"
   },
   "outputs": [
    {
     "name": "stderr",
     "output_type": "stream",
     "text": [
      "/usr/local/lib/python3.7/dist-packages/seaborn/_decorators.py:43: FutureWarning: Pass the following variable as a keyword arg: x. From version 0.12, the only valid positional argument will be `data`, and passing other arguments without an explicit keyword will result in an error or misinterpretation.\n",
      "  FutureWarning\n"
     ]
    },
    {
     "data": {
      "text/plain": [
       "Loose Silky-bent             654\n",
       "Common Chickweed             611\n",
       "Scentless Mayweed            516\n",
       "Small-flowered Cranesbill    496\n",
       "Fat Hen                      475\n",
       "Charlock                     390\n",
       "Sugar beet                   385\n",
       "Cleavers                     287\n",
       "Black-grass                  263\n",
       "Shepherds Purse              231\n",
       "Maize                        221\n",
       "Common wheat                 221\n",
       "Name: Label, dtype: int64"
      ]
     },
     "execution_count": 219,
     "metadata": {
      "tags": []
     },
     "output_type": "execute_result"
    },
    {
     "data": {
      "image/png": "[encoded data removed]",
      "text/plain": [
       "<Figure size 432x288 with 1 Axes>"
      ]
     },
     "metadata": {
      "needs_background": "light",
      "tags": []
     },
     "output_type": "display_data"
    }
   ],
   "source": [
    "# Getting the Value Counts of the Images\n",
    "plt.xticks(rotation=90)\n",
    "g = sns.countplot(labels['Label'])\n",
    "labels['Label'].value_counts()"
   ]
  },
  {
   "cell_type": "code",
   "execution_count": 221,
   "metadata": {
    "colab": {
     "base_uri": "https://localhost:8080/"
    },
    "executionInfo": {
     "elapsed": 2632,
     "status": "ok",
     "timestamp": 1615158143632,
     "user": {
      "displayName": "Anupam Vaish",
      "photoUrl": "",
      "userId": "05967575612017638343"
     },
     "user_tz": 420
    },
    "id": "UE6o9Pw8kBB8",
    "outputId": "bb210ed6-1946-480b-f2a8-98bb77062337"
   },
   "outputs": [
    {
     "name": "stdout",
     "output_type": "stream",
     "text": [
      "Trainset Data Shape-- (4750, 32, 32, 4)\n"
     ]
    }
   ],
   "source": [
    "print(\"Trainset Data Shape--\",trainImg.shape)\n",
    "#trainImg = trainImg.reshape(trainImg.shape[0], 32, 32, 1)"
   ]
  },
  {
   "cell_type": "markdown",
   "metadata": {
    "id": "X0NA0UuJRfRr"
   },
   "source": [
    "### Make Data Compatible"
   ]
  },
  {
   "cell_type": "code",
   "execution_count": 222,
   "metadata": {
    "colab": {
     "base_uri": "https://localhost:8080/"
    },
    "executionInfo": {
     "elapsed": 2626,
     "status": "ok",
     "timestamp": 1615158143632,
     "user": {
      "displayName": "Anupam Vaish",
      "photoUrl": "",
      "userId": "05967575612017638343"
     },
     "user_tz": 420
    },
    "id": "GFyLhsnSRkPd",
    "outputId": "daa2f538-62a9-4993-a386-2f4d5a8fd292"
   },
   "outputs": [
    {
     "name": "stdout",
     "output_type": "stream",
     "text": [
      "(4750,)\n",
      "Small-flowered Cranesbill\n",
      "[0. 0. 0. 1. 0. 0. 0. 0. 0. 0. 0. 0.]\n"
     ]
    }
   ],
   "source": [
    "# Convert labels to one-hot-vectors.\n",
    "print(labels['Label'].shape)\n",
    "print(labels['Label'][0])\n",
    "map={\"Label\": {\"Loose Silky-bent\":0,\"Common Chickweed\":1,\"Scentless Mayweed\":2,\"Small-flowered Cranesbill\":3,\"Fat Hen\":4,\n",
    "               \"Charlock\":5,\"Sugar beet\":6,\"Cleavers\":7,\"Black-grass\":8,\"Shepherds Purse\":9,\"Common wheat\":10,\"Maize\":11}}\n",
    "labels=labels.replace(map)\n",
    "Y = tf.keras.utils.to_categorical(labels['Label'],num_classes=12)\n",
    "\n",
    "# Printing Label for y_train[0]\n",
    "print(Y[0])"
   ]
  },
  {
   "cell_type": "markdown",
   "metadata": {
    "id": "QZs9-gSJYckV"
   },
   "source": [
    "### Split the dataset into training, testing, and validation set."
   ]
  },
  {
   "cell_type": "code",
   "execution_count": 223,
   "metadata": {
    "executionInfo": {
     "elapsed": 2622,
     "status": "ok",
     "timestamp": 1615158143634,
     "user": {
      "displayName": "Anupam Vaish",
      "photoUrl": "",
      "userId": "05967575612017638343"
     },
     "user_tz": 420
    },
    "id": "rhPg9j8xV7Lu"
   },
   "outputs": [],
   "source": [
    "# Split data into test, validation and train set to build the model.\n",
    "\n",
    "# First Splitting test size =.3 so taking train_size as size being .7\n",
    "X_train, X_test, y_train, y_test = train_test_split(trainImg, Y, train_size=0.7, random_state=100)\n",
    "# Splitting the test into vaidation and final test as size being .5 \n",
    "X_val,X_final,y_val,y_final= train_test_split(X_test, y_test, train_size=0.5, random_state=100)"
   ]
  },
  {
   "cell_type": "code",
   "execution_count": 224,
   "metadata": {
    "colab": {
     "base_uri": "https://localhost:8080/"
    },
    "executionInfo": {
     "elapsed": 2618,
     "status": "ok",
     "timestamp": 1615158143634,
     "user": {
      "displayName": "Anupam Vaish",
      "photoUrl": "",
      "userId": "05967575612017638343"
     },
     "user_tz": 420
    },
    "id": "yvuH3HcmjhEh",
    "outputId": "1fe87c3c-e079-4800-e421-f5abcb8ddad3"
   },
   "outputs": [
    {
     "name": "stdout",
     "output_type": "stream",
     "text": [
      "(3325, 32, 32, 4)\n",
      "(3325, 12)\n",
      "(712, 32, 32, 4)\n",
      "(712, 12)\n",
      "(713, 32, 32, 4)\n",
      "(713, 12)\n"
     ]
    }
   ],
   "source": [
    "# Checking the shape of the data\n",
    "print(X_train.shape)\n",
    "print(y_train.shape)\n",
    "print(X_val.shape)\n",
    "print(y_val.shape)\n",
    "print(X_final.shape)\n",
    "print(y_final.shape)"
   ]
  },
  {
   "cell_type": "markdown",
   "metadata": {
    "id": "3mdBMJaC3qKP"
   },
   "source": [
    "### Building CNN"
   ]
  },
  {
   "cell_type": "code",
   "execution_count": 225,
   "metadata": {
    "colab": {
     "base_uri": "https://localhost:8080/"
    },
    "executionInfo": {
     "elapsed": 2787,
     "status": "ok",
     "timestamp": 1615158143811,
     "user": {
      "displayName": "Anupam Vaish",
      "photoUrl": "",
      "userId": "05967575612017638343"
     },
     "user_tz": 420
    },
    "id": "9aOz_ZIdgskF",
    "outputId": "e80c0e60-913c-4b0c-8f9f-0f913cc045ea"
   },
   "outputs": [
    {
     "name": "stdout",
     "output_type": "stream",
     "text": [
      "Model: \"sequential_4\"\n",
      "_________________________________________________________________\n",
      "Layer (type)                 Output Shape              Param #   \n",
      "=================================================================\n",
      "conv2d_16 (Conv2D)           (None, 32, 32, 32)        3232      \n",
      "_________________________________________________________________\n",
      "batch_normalization_16 (Batc (None, 32, 32, 32)        128       \n",
      "_________________________________________________________________\n",
      "max_pooling2d_16 (MaxPooling (None, 16, 16, 32)        0         \n",
      "_________________________________________________________________\n",
      "dropout_20 (Dropout)         (None, 16, 16, 32)        0         \n",
      "_________________________________________________________________\n",
      "conv2d_17 (Conv2D)           (None, 16, 16, 64)        51264     \n",
      "_________________________________________________________________\n",
      "batch_normalization_17 (Batc (None, 16, 16, 64)        256       \n",
      "_________________________________________________________________\n",
      "max_pooling2d_17 (MaxPooling (None, 8, 8, 64)          0         \n",
      "_________________________________________________________________\n",
      "dropout_21 (Dropout)         (None, 8, 8, 64)          0         \n",
      "_________________________________________________________________\n",
      "conv2d_18 (Conv2D)           (None, 8, 8, 64)          36928     \n",
      "_________________________________________________________________\n",
      "batch_normalization_18 (Batc (None, 8, 8, 64)          256       \n",
      "_________________________________________________________________\n",
      "max_pooling2d_18 (MaxPooling (None, 4, 4, 64)          0         \n",
      "_________________________________________________________________\n",
      "dropout_22 (Dropout)         (None, 4, 4, 64)          0         \n",
      "_________________________________________________________________\n",
      "conv2d_19 (Conv2D)           (None, 4, 4, 64)          36928     \n",
      "_________________________________________________________________\n",
      "batch_normalization_19 (Batc (None, 4, 4, 64)          256       \n",
      "_________________________________________________________________\n",
      "max_pooling2d_19 (MaxPooling (None, 2, 2, 64)          0         \n",
      "_________________________________________________________________\n",
      "dropout_23 (Dropout)         (None, 2, 2, 64)          0         \n",
      "_________________________________________________________________\n",
      "global_max_pooling2d_4 (Glob (None, 64)                0         \n",
      "_________________________________________________________________\n",
      "dense_12 (Dense)             (None, 256)               16640     \n",
      "_________________________________________________________________\n",
      "dropout_24 (Dropout)         (None, 256)               0         \n",
      "_________________________________________________________________\n",
      "dense_13 (Dense)             (None, 128)               32896     \n",
      "_________________________________________________________________\n",
      "dense_14 (Dense)             (None, 64)                8256      \n",
      "_________________________________________________________________\n",
      "dense_15 (Dense)             (None, 12)                780       \n",
      "=================================================================\n",
      "Total params: 187,820\n",
      "Trainable params: 187,372\n",
      "Non-trainable params: 448\n",
      "_________________________________________________________________\n"
     ]
    }
   ],
   "source": [
    "# Building Model\n",
    "model = models.Sequential()\n",
    "model.add(layers.Conv2D(32, (5, 5), padding='same', activation=\"relu\", input_shape=X_train.shape[1:]))\n",
    "model.add(layers.BatchNormalization())\n",
    "model.add(layers.MaxPooling2D((2, 2)))\n",
    "model.add(layers.Dropout(0.2))\n",
    "model.add(layers.Conv2D(64, (5, 5), padding='same', activation=\"relu\"))\n",
    "model.add(layers.BatchNormalization())\n",
    "model.add(layers.MaxPooling2D((2, 2)))\n",
    "model.add(layers.Dropout(0.3))\n",
    "model.add(layers.Conv2D(64, (3, 3), padding='same', activation=\"relu\"))\n",
    "model.add(layers.BatchNormalization())\n",
    "model.add(layers.MaxPooling2D((2, 2)))\n",
    "model.add(layers.Dropout(0.4))\n",
    "model.add(layers.Conv2D(64, (3, 3), padding='same', activation=\"relu\"))\n",
    "model.add(layers.BatchNormalization())\n",
    "model.add(layers.MaxPooling2D((2, 2)))\n",
    "model.add(layers.Dropout(0.5))\n",
    "\n",
    "model.add(layers.GlobalMaxPooling2D())\n",
    "model.add(layers.Dense(256, activation=\"relu\"))\n",
    "#model.add(layers.Dropout(0.5))\n",
    "model.add(layers.Dropout(0.2))\n",
    "model.add(layers.Dense(128, activation=\"relu\"))\n",
    "model.add(layers.Dense(64, activation=\"relu\"))\n",
    "model.add(layers.Dense(12, activation=\"softmax\"))\n",
    "\n",
    "# Printing Model summary\n",
    "model.summary()"
   ]
  },
  {
   "cell_type": "markdown",
   "metadata": {
    "id": "zENJE7JM31tY"
   },
   "source": [
    "### Setting Optimizer and loss function"
   ]
  },
  {
   "cell_type": "code",
   "execution_count": 226,
   "metadata": {
    "executionInfo": {
     "elapsed": 2782,
     "status": "ok",
     "timestamp": 1615158143811,
     "user": {
      "displayName": "Anupam Vaish",
      "photoUrl": "",
      "userId": "05967575612017638343"
     },
     "user_tz": 420
    },
    "id": "B-X8qA7ahIXN"
   },
   "outputs": [],
   "source": [
    "# Instantiate Adam optimizer\n",
    "opt = optimizers.Adam(learning_rate=0.001, beta_1=0.9, beta_2=0.999, epsilon=1e-08)\n",
    "\n",
    "# Compliling Model with loss = categorical_crossentropy\n",
    "model.compile(loss='categorical_crossentropy',optimizer=opt,metrics=['accuracy'])"
   ]
  },
  {
   "cell_type": "code",
   "execution_count": 227,
   "metadata": {
    "colab": {
     "base_uri": "https://localhost:8080/"
    },
    "executionInfo": {
     "elapsed": 2778,
     "status": "ok",
     "timestamp": 1615158143812,
     "user": {
      "displayName": "Anupam Vaish",
      "photoUrl": "",
      "userId": "05967575612017638343"
     },
     "user_tz": 420
    },
    "id": "181dMUpFhThI",
    "outputId": "e1a66152-4393-4de7-8205-2b3f17363af4"
   },
   "outputs": [
    {
     "name": "stdout",
     "output_type": "stream",
     "text": [
      "WARNING:tensorflow:`period` argument is deprecated. Please use `save_freq` to specify the frequency in number of batches seen.\n"
     ]
    }
   ],
   "source": [
    "#Adding Early stopping callback to the fit function is going to stop the training,\n",
    "#if the val_loss is not going to change even '0.0009' for more than 30 continous epochs\n",
    "\n",
    "\n",
    "early_stopping = EarlyStopping(monitor='val_loss', min_delta=0.0009, patience=30)\n",
    "\n",
    "#Adding Model Checkpoint callback to the fit function is going to save the weights whenever val_loss achieves a new low value. \n",
    "#Hence saving the best weights occurred during training\n",
    "\n",
    "model_checkpoint =  ModelCheckpoint('Seedling_cnn_checkpoint_{epoch:02d}_loss{val_loss:.4f}.h5',\n",
    "                                                           monitor='val_loss',\n",
    "                                                           verbose=1,\n",
    "                                                           save_best_only=True,\n",
    "                                                           save_weights_only=True,\n",
    "                                                           mode='auto',\n",
    "                                                           period=1)"
   ]
  },
  {
   "cell_type": "markdown",
   "metadata": {
    "id": "0Vjj8R8J4xKh"
   },
   "source": [
    "### Fitting the Model"
   ]
  },
  {
   "cell_type": "code",
   "execution_count": 228,
   "metadata": {
    "colab": {
     "base_uri": "https://localhost:8080/",
     "height": 1000
    },
    "executionInfo": {
     "elapsed": 68738,
     "status": "ok",
     "timestamp": 1615158213621,
     "user": {
      "displayName": "Anupam Vaish",
      "photoUrl": "",
      "userId": "05967575612017638343"
     },
     "user_tz": 420
    },
    "id": "T_CaI1JOhX0S",
    "outputId": "65b80a53-f438-4ef8-f02c-f7a03bd05bbb"
   },
   "outputs": [
    {
     "name": "stdout",
     "output_type": "stream",
     "text": [
      "Epoch 1/150\n",
      "104/104 [==============================] - 2s 8ms/step - loss: 2.5300 - accuracy: 0.1695 - val_loss: 2.6301 - val_accuracy: 0.1419\n",
      "\n",
      "Epoch 00001: val_loss improved from inf to 2.63012, saving model to Seedling_cnn_checkpoint_01_loss2.6301.h5\n",
      "Epoch 2/150\n",
      "104/104 [==============================] - 1s 6ms/step - loss: 1.8792 - accuracy: 0.3249 - val_loss: 2.8880 - val_accuracy: 0.1433\n",
      "\n",
      "Epoch 00002: val_loss did not improve from 2.63012\n",
      "Epoch 3/150\n",
      "104/104 [==============================] - 1s 6ms/step - loss: 1.6719 - accuracy: 0.4056 - val_loss: 3.0608 - val_accuracy: 0.1461\n",
      "\n",
      "Epoch 00003: val_loss did not improve from 2.63012\n",
      "Epoch 4/150\n",
      "104/104 [==============================] - 1s 6ms/step - loss: 1.4368 - accuracy: 0.4862 - val_loss: 3.1410 - val_accuracy: 0.1419\n",
      "\n",
      "Epoch 00004: val_loss did not improve from 2.63012\n",
      "Epoch 5/150\n",
      "104/104 [==============================] - 1s 6ms/step - loss: 1.3138 - accuracy: 0.5233 - val_loss: 3.1494 - val_accuracy: 0.1756\n",
      "\n",
      "Epoch 00005: val_loss did not improve from 2.63012\n",
      "Epoch 6/150\n",
      "104/104 [==============================] - 1s 6ms/step - loss: 1.2611 - accuracy: 0.5391 - val_loss: 2.0517 - val_accuracy: 0.2626\n",
      "\n",
      "Epoch 00006: val_loss improved from 2.63012 to 2.05171, saving model to Seedling_cnn_checkpoint_06_loss2.0517.h5\n",
      "Epoch 7/150\n",
      "104/104 [==============================] - 1s 6ms/step - loss: 1.1803 - accuracy: 0.5644 - val_loss: 3.2665 - val_accuracy: 0.2303\n",
      "\n",
      "Epoch 00007: val_loss did not improve from 2.05171\n",
      "Epoch 8/150\n",
      "104/104 [==============================] - 1s 6ms/step - loss: 1.1295 - accuracy: 0.5937 - val_loss: 2.1414 - val_accuracy: 0.3301\n",
      "\n",
      "Epoch 00008: val_loss did not improve from 2.05171\n",
      "Epoch 9/150\n",
      "104/104 [==============================] - 1s 6ms/step - loss: 1.0518 - accuracy: 0.6273 - val_loss: 1.3109 - val_accuracy: 0.5084\n",
      "\n",
      "Epoch 00009: val_loss improved from 2.05171 to 1.31086, saving model to Seedling_cnn_checkpoint_09_loss1.3109.h5\n",
      "Epoch 10/150\n",
      "104/104 [==============================] - 1s 6ms/step - loss: 1.0112 - accuracy: 0.6360 - val_loss: 1.9362 - val_accuracy: 0.3975\n",
      "\n",
      "Epoch 00010: val_loss did not improve from 1.31086\n",
      "Epoch 11/150\n",
      "104/104 [==============================] - 1s 6ms/step - loss: 0.9581 - accuracy: 0.6745 - val_loss: 1.5614 - val_accuracy: 0.4761\n",
      "\n",
      "Epoch 00011: val_loss did not improve from 1.31086\n",
      "Epoch 12/150\n",
      "104/104 [==============================] - 1s 6ms/step - loss: 0.9112 - accuracy: 0.6789 - val_loss: 1.8011 - val_accuracy: 0.4101\n",
      "\n",
      "Epoch 00012: val_loss did not improve from 1.31086\n",
      "Epoch 13/150\n",
      "104/104 [==============================] - 1s 6ms/step - loss: 0.8755 - accuracy: 0.6850 - val_loss: 1.9015 - val_accuracy: 0.3834\n",
      "\n",
      "Epoch 00013: val_loss did not improve from 1.31086\n",
      "Epoch 14/150\n",
      "104/104 [==============================] - 1s 6ms/step - loss: 0.8266 - accuracy: 0.7082 - val_loss: 1.1522 - val_accuracy: 0.5927\n",
      "\n",
      "Epoch 00014: val_loss improved from 1.31086 to 1.15224, saving model to Seedling_cnn_checkpoint_14_loss1.1522.h5\n",
      "Epoch 15/150\n",
      "104/104 [==============================] - 1s 6ms/step - loss: 0.8281 - accuracy: 0.7050 - val_loss: 1.2185 - val_accuracy: 0.5857\n",
      "\n",
      "Epoch 00015: val_loss did not improve from 1.15224\n",
      "Epoch 16/150\n",
      "104/104 [==============================] - 1s 6ms/step - loss: 0.7833 - accuracy: 0.7327 - val_loss: 2.5503 - val_accuracy: 0.2612\n",
      "\n",
      "Epoch 00016: val_loss did not improve from 1.15224\n",
      "Epoch 17/150\n",
      "104/104 [==============================] - 1s 6ms/step - loss: 0.7624 - accuracy: 0.7441 - val_loss: 1.3781 - val_accuracy: 0.4593\n",
      "\n",
      "Epoch 00017: val_loss did not improve from 1.15224\n",
      "Epoch 18/150\n",
      "104/104 [==============================] - 1s 6ms/step - loss: 0.7201 - accuracy: 0.7492 - val_loss: 2.3714 - val_accuracy: 0.2992\n",
      "\n",
      "Epoch 00018: val_loss did not improve from 1.15224\n",
      "Epoch 19/150\n",
      "104/104 [==============================] - 1s 6ms/step - loss: 0.7083 - accuracy: 0.7459 - val_loss: 1.0932 - val_accuracy: 0.6096\n",
      "\n",
      "Epoch 00019: val_loss improved from 1.15224 to 1.09315, saving model to Seedling_cnn_checkpoint_19_loss1.0932.h5\n",
      "Epoch 20/150\n",
      "104/104 [==============================] - 1s 6ms/step - loss: 0.7023 - accuracy: 0.7389 - val_loss: 1.6374 - val_accuracy: 0.4958\n",
      "\n",
      "Epoch 00020: val_loss did not improve from 1.09315\n",
      "Epoch 21/150\n",
      "104/104 [==============================] - 1s 6ms/step - loss: 0.6939 - accuracy: 0.7457 - val_loss: 1.1872 - val_accuracy: 0.5632\n",
      "\n",
      "Epoch 00021: val_loss did not improve from 1.09315\n",
      "Epoch 22/150\n",
      "104/104 [==============================] - 1s 6ms/step - loss: 0.6521 - accuracy: 0.7618 - val_loss: 1.1689 - val_accuracy: 0.5941\n",
      "\n",
      "Epoch 00022: val_loss did not improve from 1.09315\n",
      "Epoch 23/150\n",
      "104/104 [==============================] - 1s 6ms/step - loss: 0.6850 - accuracy: 0.7508 - val_loss: 1.4731 - val_accuracy: 0.5084\n",
      "\n",
      "Epoch 00023: val_loss did not improve from 1.09315\n",
      "Epoch 24/150\n",
      "104/104 [==============================] - 1s 6ms/step - loss: 0.6203 - accuracy: 0.7846 - val_loss: 1.1052 - val_accuracy: 0.5955\n",
      "\n",
      "Epoch 00024: val_loss did not improve from 1.09315\n",
      "Epoch 25/150\n",
      "104/104 [==============================] - 1s 6ms/step - loss: 0.5922 - accuracy: 0.7996 - val_loss: 1.0143 - val_accuracy: 0.6292\n",
      "\n",
      "Epoch 00025: val_loss improved from 1.09315 to 1.01434, saving model to Seedling_cnn_checkpoint_25_loss1.0143.h5\n",
      "Epoch 26/150\n",
      "104/104 [==============================] - 1s 6ms/step - loss: 0.5907 - accuracy: 0.7890 - val_loss: 1.5765 - val_accuracy: 0.4874\n",
      "\n",
      "Epoch 00026: val_loss did not improve from 1.01434\n",
      "Epoch 27/150\n",
      "104/104 [==============================] - 1s 6ms/step - loss: 0.6113 - accuracy: 0.7714 - val_loss: 1.6139 - val_accuracy: 0.5576\n",
      "\n",
      "Epoch 00027: val_loss did not improve from 1.01434\n",
      "Epoch 28/150\n",
      "104/104 [==============================] - 1s 6ms/step - loss: 0.5790 - accuracy: 0.7913 - val_loss: 1.0931 - val_accuracy: 0.6222\n",
      "\n",
      "Epoch 00028: val_loss did not improve from 1.01434\n",
      "Epoch 29/150\n",
      "104/104 [==============================] - 1s 6ms/step - loss: 0.5633 - accuracy: 0.7896 - val_loss: 0.8946 - val_accuracy: 0.6784\n",
      "\n",
      "Epoch 00029: val_loss improved from 1.01434 to 0.89462, saving model to Seedling_cnn_checkpoint_29_loss0.8946.h5\n",
      "Epoch 30/150\n",
      "104/104 [==============================] - 1s 6ms/step - loss: 0.5734 - accuracy: 0.7860 - val_loss: 1.7722 - val_accuracy: 0.5098\n",
      "\n",
      "Epoch 00030: val_loss did not improve from 0.89462\n",
      "Epoch 31/150\n",
      "104/104 [==============================] - 1s 6ms/step - loss: 0.5656 - accuracy: 0.7924 - val_loss: 1.1515 - val_accuracy: 0.6910\n",
      "\n",
      "Epoch 00031: val_loss did not improve from 0.89462\n",
      "Epoch 32/150\n",
      "104/104 [==============================] - 1s 6ms/step - loss: 0.5343 - accuracy: 0.8080 - val_loss: 1.1758 - val_accuracy: 0.5857\n",
      "\n",
      "Epoch 00032: val_loss did not improve from 0.89462\n",
      "Epoch 33/150\n",
      "104/104 [==============================] - 1s 6ms/step - loss: 0.5429 - accuracy: 0.7974 - val_loss: 1.0869 - val_accuracy: 0.6362\n",
      "\n",
      "Epoch 00033: val_loss did not improve from 0.89462\n",
      "Epoch 34/150\n",
      "104/104 [==============================] - 1s 6ms/step - loss: 0.5363 - accuracy: 0.8116 - val_loss: 0.6360 - val_accuracy: 0.7795\n",
      "\n",
      "Epoch 00034: val_loss improved from 0.89462 to 0.63601, saving model to Seedling_cnn_checkpoint_34_loss0.6360.h5\n",
      "Epoch 35/150\n",
      "104/104 [==============================] - 1s 6ms/step - loss: 0.4688 - accuracy: 0.8331 - val_loss: 1.4802 - val_accuracy: 0.5183\n",
      "\n",
      "Epoch 00035: val_loss did not improve from 0.63601\n",
      "Epoch 36/150\n",
      "104/104 [==============================] - 1s 6ms/step - loss: 0.4796 - accuracy: 0.8280 - val_loss: 1.0254 - val_accuracy: 0.6629\n",
      "\n",
      "Epoch 00036: val_loss did not improve from 0.63601\n",
      "Epoch 37/150\n",
      "104/104 [==============================] - 1s 6ms/step - loss: 0.4860 - accuracy: 0.8226 - val_loss: 1.1177 - val_accuracy: 0.6545\n",
      "\n",
      "Epoch 00037: val_loss did not improve from 0.63601\n",
      "Epoch 38/150\n",
      "104/104 [==============================] - 1s 6ms/step - loss: 0.4574 - accuracy: 0.8307 - val_loss: 0.5168 - val_accuracy: 0.8132\n",
      "\n",
      "Epoch 00038: val_loss improved from 0.63601 to 0.51681, saving model to Seedling_cnn_checkpoint_38_loss0.5168.h5\n",
      "Epoch 39/150\n",
      "104/104 [==============================] - 1s 6ms/step - loss: 0.4605 - accuracy: 0.8311 - val_loss: 1.4630 - val_accuracy: 0.5688\n",
      "\n",
      "Epoch 00039: val_loss did not improve from 0.51681\n",
      "Epoch 40/150\n",
      "104/104 [==============================] - 1s 6ms/step - loss: 0.5228 - accuracy: 0.8055 - val_loss: 0.8660 - val_accuracy: 0.7444\n",
      "\n",
      "Epoch 00040: val_loss did not improve from 0.51681\n",
      "Epoch 41/150\n",
      "104/104 [==============================] - 1s 6ms/step - loss: 0.4684 - accuracy: 0.8410 - val_loss: 0.6915 - val_accuracy: 0.7346\n",
      "\n",
      "Epoch 00041: val_loss did not improve from 0.51681\n",
      "Epoch 42/150\n",
      "104/104 [==============================] - 1s 6ms/step - loss: 0.4880 - accuracy: 0.8203 - val_loss: 0.7076 - val_accuracy: 0.7542\n",
      "\n",
      "Epoch 00042: val_loss did not improve from 0.51681\n",
      "Epoch 43/150\n",
      "104/104 [==============================] - 1s 6ms/step - loss: 0.4677 - accuracy: 0.8362 - val_loss: 1.2933 - val_accuracy: 0.5632\n",
      "\n",
      "Epoch 00043: val_loss did not improve from 0.51681\n",
      "Epoch 44/150\n",
      "104/104 [==============================] - 1s 7ms/step - loss: 0.4212 - accuracy: 0.8601 - val_loss: 0.9653 - val_accuracy: 0.6798\n",
      "\n",
      "Epoch 00044: val_loss did not improve from 0.51681\n",
      "Epoch 45/150\n",
      "104/104 [==============================] - 1s 7ms/step - loss: 0.4574 - accuracy: 0.8422 - val_loss: 0.6988 - val_accuracy: 0.7584\n",
      "\n",
      "Epoch 00045: val_loss did not improve from 0.51681\n",
      "Epoch 46/150\n",
      "104/104 [==============================] - 1s 6ms/step - loss: 0.4060 - accuracy: 0.8638 - val_loss: 0.5389 - val_accuracy: 0.8202\n",
      "\n",
      "Epoch 00046: val_loss did not improve from 0.51681\n",
      "Epoch 47/150\n",
      "104/104 [==============================] - 1s 6ms/step - loss: 0.4060 - accuracy: 0.8602 - val_loss: 0.5972 - val_accuracy: 0.7556\n",
      "\n",
      "Epoch 00047: val_loss did not improve from 0.51681\n",
      "Epoch 48/150\n",
      "104/104 [==============================] - 1s 6ms/step - loss: 0.4616 - accuracy: 0.8397 - val_loss: 1.4328 - val_accuracy: 0.5140\n",
      "\n",
      "Epoch 00048: val_loss did not improve from 0.51681\n",
      "Epoch 49/150\n",
      "104/104 [==============================] - 1s 6ms/step - loss: 0.4471 - accuracy: 0.8463 - val_loss: 0.7620 - val_accuracy: 0.7303\n",
      "\n",
      "Epoch 00049: val_loss did not improve from 0.51681\n",
      "Epoch 50/150\n",
      "104/104 [==============================] - 1s 6ms/step - loss: 0.4464 - accuracy: 0.8488 - val_loss: 0.7565 - val_accuracy: 0.7388\n",
      "\n",
      "Epoch 00050: val_loss did not improve from 0.51681\n",
      "Epoch 51/150\n",
      "104/104 [==============================] - 1s 7ms/step - loss: 0.4230 - accuracy: 0.8497 - val_loss: 0.4983 - val_accuracy: 0.8385\n",
      "\n",
      "Epoch 00051: val_loss improved from 0.51681 to 0.49830, saving model to Seedling_cnn_checkpoint_51_loss0.4983.h5\n",
      "Epoch 52/150\n",
      "104/104 [==============================] - 1s 7ms/step - loss: 0.3658 - accuracy: 0.8691 - val_loss: 0.8529 - val_accuracy: 0.7121\n",
      "\n",
      "Epoch 00052: val_loss did not improve from 0.49830\n",
      "Epoch 53/150\n",
      "104/104 [==============================] - 1s 6ms/step - loss: 0.4038 - accuracy: 0.8560 - val_loss: 0.5326 - val_accuracy: 0.8104\n",
      "\n",
      "Epoch 00053: val_loss did not improve from 0.49830\n",
      "Epoch 54/150\n",
      "104/104 [==============================] - 1s 6ms/step - loss: 0.4129 - accuracy: 0.8481 - val_loss: 0.6526 - val_accuracy: 0.7963\n",
      "\n",
      "Epoch 00054: val_loss did not improve from 0.49830\n",
      "Epoch 55/150\n",
      "104/104 [==============================] - 1s 6ms/step - loss: 0.3495 - accuracy: 0.8733 - val_loss: 0.7546 - val_accuracy: 0.7781\n",
      "\n",
      "Epoch 00055: val_loss did not improve from 0.49830\n",
      "Epoch 56/150\n",
      "104/104 [==============================] - 1s 7ms/step - loss: 0.3787 - accuracy: 0.8643 - val_loss: 1.4716 - val_accuracy: 0.6362\n",
      "\n",
      "Epoch 00056: val_loss did not improve from 0.49830\n",
      "Epoch 57/150\n",
      "104/104 [==============================] - 1s 6ms/step - loss: 0.3551 - accuracy: 0.8687 - val_loss: 1.0534 - val_accuracy: 0.6447\n",
      "\n",
      "Epoch 00057: val_loss did not improve from 0.49830\n",
      "Epoch 58/150\n",
      "104/104 [==============================] - 1s 6ms/step - loss: 0.3732 - accuracy: 0.8656 - val_loss: 0.6716 - val_accuracy: 0.7640\n",
      "\n",
      "Epoch 00058: val_loss did not improve from 0.49830\n",
      "Epoch 59/150\n",
      "104/104 [==============================] - 1s 6ms/step - loss: 0.3477 - accuracy: 0.8784 - val_loss: 1.0322 - val_accuracy: 0.6826\n",
      "\n",
      "Epoch 00059: val_loss did not improve from 0.49830\n",
      "Epoch 60/150\n",
      "104/104 [==============================] - 1s 6ms/step - loss: 0.3919 - accuracy: 0.8580 - val_loss: 1.1277 - val_accuracy: 0.6896\n",
      "\n",
      "Epoch 00060: val_loss did not improve from 0.49830\n",
      "Epoch 61/150\n",
      "104/104 [==============================] - 1s 6ms/step - loss: 0.3560 - accuracy: 0.8644 - val_loss: 0.6295 - val_accuracy: 0.7809\n",
      "\n",
      "Epoch 00061: val_loss did not improve from 0.49830\n",
      "Epoch 62/150\n",
      "104/104 [==============================] - 1s 6ms/step - loss: 0.3876 - accuracy: 0.8682 - val_loss: 0.7004 - val_accuracy: 0.7837\n",
      "\n",
      "Epoch 00062: val_loss did not improve from 0.49830\n",
      "Epoch 63/150\n",
      "104/104 [==============================] - 1s 6ms/step - loss: 0.3312 - accuracy: 0.8834 - val_loss: 0.9178 - val_accuracy: 0.6910\n",
      "\n",
      "Epoch 00063: val_loss did not improve from 0.49830\n",
      "Epoch 64/150\n",
      "104/104 [==============================] - 1s 6ms/step - loss: 0.3672 - accuracy: 0.8694 - val_loss: 1.0731 - val_accuracy: 0.6910\n",
      "\n",
      "Epoch 00064: val_loss did not improve from 0.49830\n",
      "Epoch 65/150\n",
      "104/104 [==============================] - 1s 6ms/step - loss: 0.3261 - accuracy: 0.8873 - val_loss: 1.2518 - val_accuracy: 0.6419\n",
      "\n",
      "Epoch 00065: val_loss did not improve from 0.49830\n",
      "Epoch 66/150\n",
      "104/104 [==============================] - 1s 7ms/step - loss: 0.3569 - accuracy: 0.8780 - val_loss: 0.7458 - val_accuracy: 0.7472\n",
      "\n",
      "Epoch 00066: val_loss did not improve from 0.49830\n",
      "Epoch 67/150\n",
      "104/104 [==============================] - 1s 7ms/step - loss: 0.3249 - accuracy: 0.8794 - val_loss: 0.9261 - val_accuracy: 0.6812\n",
      "\n",
      "Epoch 00067: val_loss did not improve from 0.49830\n",
      "Epoch 68/150\n",
      "104/104 [==============================] - 1s 6ms/step - loss: 0.3674 - accuracy: 0.8714 - val_loss: 0.6130 - val_accuracy: 0.8104\n",
      "\n",
      "Epoch 00068: val_loss did not improve from 0.49830\n",
      "Epoch 69/150\n",
      "104/104 [==============================] - 1s 6ms/step - loss: 0.3058 - accuracy: 0.8863 - val_loss: 1.9333 - val_accuracy: 0.4747\n",
      "\n",
      "Epoch 00069: val_loss did not improve from 0.49830\n",
      "Epoch 70/150\n",
      "104/104 [==============================] - 1s 6ms/step - loss: 0.3221 - accuracy: 0.8906 - val_loss: 1.2398 - val_accuracy: 0.6966\n",
      "\n",
      "Epoch 00070: val_loss did not improve from 0.49830\n",
      "Epoch 71/150\n",
      "104/104 [==============================] - 1s 7ms/step - loss: 0.3542 - accuracy: 0.8901 - val_loss: 1.0413 - val_accuracy: 0.7205\n",
      "\n",
      "Epoch 00071: val_loss did not improve from 0.49830\n",
      "Epoch 72/150\n",
      "104/104 [==============================] - 1s 7ms/step - loss: 0.2871 - accuracy: 0.8924 - val_loss: 0.6690 - val_accuracy: 0.7879\n",
      "\n",
      "Epoch 00072: val_loss did not improve from 0.49830\n",
      "Epoch 73/150\n",
      "104/104 [==============================] - 1s 6ms/step - loss: 0.3214 - accuracy: 0.8930 - val_loss: 0.5320 - val_accuracy: 0.8146\n",
      "\n",
      "Epoch 00073: val_loss did not improve from 0.49830\n",
      "Epoch 74/150\n",
      "104/104 [==============================] - 1s 6ms/step - loss: 0.2791 - accuracy: 0.8998 - val_loss: 0.5457 - val_accuracy: 0.8216\n",
      "\n",
      "Epoch 00074: val_loss did not improve from 0.49830\n",
      "Epoch 75/150\n",
      "104/104 [==============================] - 1s 6ms/step - loss: 0.3089 - accuracy: 0.8853 - val_loss: 0.4701 - val_accuracy: 0.8371\n",
      "\n",
      "Epoch 00075: val_loss improved from 0.49830 to 0.47014, saving model to Seedling_cnn_checkpoint_75_loss0.4701.h5\n",
      "Epoch 76/150\n",
      "104/104 [==============================] - 1s 7ms/step - loss: 0.2701 - accuracy: 0.9052 - val_loss: 1.5421 - val_accuracy: 0.5674\n",
      "\n",
      "Epoch 00076: val_loss did not improve from 0.47014\n",
      "Epoch 77/150\n",
      "104/104 [==============================] - 1s 6ms/step - loss: 0.2786 - accuracy: 0.8958 - val_loss: 1.8265 - val_accuracy: 0.4705\n",
      "\n",
      "Epoch 00077: val_loss did not improve from 0.47014\n",
      "Epoch 78/150\n",
      "104/104 [==============================] - 1s 7ms/step - loss: 0.3397 - accuracy: 0.8759 - val_loss: 0.6219 - val_accuracy: 0.8090\n",
      "\n",
      "Epoch 00078: val_loss did not improve from 0.47014\n",
      "Epoch 79/150\n",
      "104/104 [==============================] - 1s 6ms/step - loss: 0.2989 - accuracy: 0.8925 - val_loss: 0.5832 - val_accuracy: 0.8146\n",
      "\n",
      "Epoch 00079: val_loss did not improve from 0.47014\n",
      "Epoch 80/150\n",
      "104/104 [==============================] - 1s 6ms/step - loss: 0.2837 - accuracy: 0.8968 - val_loss: 1.2957 - val_accuracy: 0.6250\n",
      "\n",
      "Epoch 00080: val_loss did not improve from 0.47014\n",
      "Epoch 81/150\n",
      "104/104 [==============================] - 1s 6ms/step - loss: 0.2869 - accuracy: 0.8975 - val_loss: 0.9977 - val_accuracy: 0.7542\n",
      "\n",
      "Epoch 00081: val_loss did not improve from 0.47014\n",
      "Epoch 82/150\n",
      "104/104 [==============================] - 1s 6ms/step - loss: 0.3107 - accuracy: 0.8954 - val_loss: 1.2050 - val_accuracy: 0.6404\n",
      "\n",
      "Epoch 00082: val_loss did not improve from 0.47014\n",
      "Epoch 83/150\n",
      "104/104 [==============================] - 1s 6ms/step - loss: 0.2562 - accuracy: 0.9056 - val_loss: 0.9326 - val_accuracy: 0.7542\n",
      "\n",
      "Epoch 00083: val_loss did not improve from 0.47014\n",
      "Epoch 84/150\n",
      "104/104 [==============================] - 1s 7ms/step - loss: 0.2912 - accuracy: 0.8973 - val_loss: 0.6653 - val_accuracy: 0.7626\n",
      "\n",
      "Epoch 00084: val_loss did not improve from 0.47014\n",
      "Epoch 85/150\n",
      "104/104 [==============================] - 1s 7ms/step - loss: 0.2856 - accuracy: 0.8949 - val_loss: 0.9506 - val_accuracy: 0.7514\n",
      "\n",
      "Epoch 00085: val_loss did not improve from 0.47014\n",
      "Epoch 86/150\n",
      "104/104 [==============================] - 1s 6ms/step - loss: 0.2791 - accuracy: 0.8998 - val_loss: 0.9107 - val_accuracy: 0.7149\n",
      "\n",
      "Epoch 00086: val_loss did not improve from 0.47014\n",
      "Epoch 87/150\n",
      "104/104 [==============================] - 1s 6ms/step - loss: 0.2747 - accuracy: 0.9019 - val_loss: 0.7594 - val_accuracy: 0.7402\n",
      "\n",
      "Epoch 00087: val_loss did not improve from 0.47014\n",
      "Epoch 88/150\n",
      "104/104 [==============================] - 1s 6ms/step - loss: 0.2648 - accuracy: 0.9016 - val_loss: 2.5987 - val_accuracy: 0.5070\n",
      "\n",
      "Epoch 00088: val_loss did not improve from 0.47014\n",
      "Epoch 89/150\n",
      "104/104 [==============================] - 1s 6ms/step - loss: 0.3057 - accuracy: 0.8895 - val_loss: 0.6986 - val_accuracy: 0.7739\n",
      "\n",
      "Epoch 00089: val_loss did not improve from 0.47014\n",
      "Epoch 90/150\n",
      "104/104 [==============================] - 1s 6ms/step - loss: 0.2946 - accuracy: 0.9017 - val_loss: 0.6188 - val_accuracy: 0.8090\n",
      "\n",
      "Epoch 00090: val_loss did not improve from 0.47014\n",
      "Epoch 91/150\n",
      "104/104 [==============================] - 1s 6ms/step - loss: 0.2726 - accuracy: 0.8964 - val_loss: 1.1227 - val_accuracy: 0.6938\n",
      "\n",
      "Epoch 00091: val_loss did not improve from 0.47014\n",
      "Epoch 92/150\n",
      "104/104 [==============================] - 1s 6ms/step - loss: 0.2821 - accuracy: 0.9040 - val_loss: 1.1510 - val_accuracy: 0.6966\n",
      "\n",
      "Epoch 00092: val_loss did not improve from 0.47014\n",
      "Epoch 93/150\n",
      "104/104 [==============================] - 1s 6ms/step - loss: 0.2966 - accuracy: 0.8973 - val_loss: 0.6897 - val_accuracy: 0.7809\n",
      "\n",
      "Epoch 00093: val_loss did not improve from 0.47014\n",
      "Epoch 94/150\n",
      "104/104 [==============================] - 1s 7ms/step - loss: 0.2590 - accuracy: 0.9069 - val_loss: 0.4775 - val_accuracy: 0.8427\n",
      "\n",
      "Epoch 00094: val_loss did not improve from 0.47014\n",
      "Epoch 95/150\n",
      "104/104 [==============================] - 1s 7ms/step - loss: 0.2261 - accuracy: 0.9247 - val_loss: 0.8218 - val_accuracy: 0.7598\n",
      "\n",
      "Epoch 00095: val_loss did not improve from 0.47014\n",
      "Epoch 96/150\n",
      "104/104 [==============================] - 1s 6ms/step - loss: 0.2652 - accuracy: 0.9051 - val_loss: 0.5311 - val_accuracy: 0.8118\n",
      "\n",
      "Epoch 00096: val_loss did not improve from 0.47014\n",
      "Epoch 97/150\n",
      "104/104 [==============================] - 1s 6ms/step - loss: 0.2511 - accuracy: 0.9127 - val_loss: 0.5395 - val_accuracy: 0.8315\n",
      "\n",
      "Epoch 00097: val_loss did not improve from 0.47014\n",
      "Epoch 98/150\n",
      "104/104 [==============================] - 1s 7ms/step - loss: 0.2966 - accuracy: 0.8912 - val_loss: 1.0348 - val_accuracy: 0.7402\n",
      "\n",
      "Epoch 00098: val_loss did not improve from 0.47014\n",
      "Epoch 99/150\n",
      "104/104 [==============================] - 1s 6ms/step - loss: 0.2331 - accuracy: 0.9132 - val_loss: 0.8062 - val_accuracy: 0.7458\n",
      "\n",
      "Epoch 00099: val_loss did not improve from 0.47014\n",
      "Epoch 100/150\n",
      "104/104 [==============================] - 1s 6ms/step - loss: 0.2509 - accuracy: 0.9057 - val_loss: 1.1850 - val_accuracy: 0.7360\n",
      "\n",
      "Epoch 00100: val_loss did not improve from 0.47014\n",
      "Epoch 101/150\n",
      "104/104 [==============================] - 1s 6ms/step - loss: 0.2823 - accuracy: 0.8943 - val_loss: 0.5654 - val_accuracy: 0.8216\n",
      "\n",
      "Epoch 00101: val_loss did not improve from 0.47014\n",
      "Epoch 102/150\n",
      "104/104 [==============================] - 1s 6ms/step - loss: 0.2382 - accuracy: 0.9213 - val_loss: 0.5798 - val_accuracy: 0.8006\n",
      "\n",
      "Epoch 00102: val_loss did not improve from 0.47014\n",
      "Epoch 103/150\n",
      "104/104 [==============================] - 1s 7ms/step - loss: 0.2614 - accuracy: 0.9156 - val_loss: 0.6942 - val_accuracy: 0.7978\n",
      "\n",
      "Epoch 00103: val_loss did not improve from 0.47014\n",
      "Epoch 104/150\n",
      "104/104 [==============================] - 1s 6ms/step - loss: 0.2548 - accuracy: 0.9094 - val_loss: 0.6145 - val_accuracy: 0.7992\n",
      "\n",
      "Epoch 00104: val_loss did not improve from 0.47014\n",
      "Epoch 105/150\n",
      "104/104 [==============================] - 1s 6ms/step - loss: 0.2492 - accuracy: 0.9146 - val_loss: 0.5515 - val_accuracy: 0.8258\n",
      "\n",
      "Epoch 00105: val_loss did not improve from 0.47014\n"
     ]
    },
    {
     "data": {
      "image/png": "[encoded data removed]",
      "text/plain": [
       "<Figure size 432x288 with 1 Axes>"
      ]
     },
     "metadata": {
      "needs_background": "light",
      "tags": []
     },
     "output_type": "display_data"
    }
   ],
   "source": [
    "# Fitting the model\n",
    "batch_size = 32\n",
    "num_classes = 12\n",
    "epochs = 150\n",
    "\n",
    "\n",
    "history = model.fit(X_train,\n",
    "                    y_train,\n",
    "                    batch_size=batch_size,\n",
    "                    epochs=epochs,\n",
    "                    validation_data=(X_val, y_val),\n",
    "                    shuffle=True,\n",
    "                    verbose=1,\n",
    "                    callbacks=[early_stopping,model_checkpoint])\n",
    "\n",
    "# Plotting training history\n",
    "plt.plot(history.history['loss'], label='train')\n",
    "plt.plot(history.history['val_loss'], label='test')\n",
    "plt.legend()\n",
    "plt.show()"
   ]
  },
  {
   "cell_type": "code",
   "execution_count": 231,
   "metadata": {
    "colab": {
     "base_uri": "https://localhost:8080/"
    },
    "executionInfo": {
     "elapsed": 350,
     "status": "ok",
     "timestamp": 1615158278433,
     "user": {
      "displayName": "Anupam Vaish",
      "photoUrl": "",
      "userId": "05967575612017638343"
     },
     "user_tz": 420
    },
    "id": "GZhfhx-shjS1",
    "outputId": "6e0a305a-ca6e-4109-f0b3-85ab3f9dcf36"
   },
   "outputs": [
    {
     "name": "stdout",
     "output_type": "stream",
     "text": [
      "23/23 [==============================] - 0s 3ms/step - loss: 0.4969 - accuracy: 0.8415\n",
      "Test loss: 0.4969152510166168\n",
      "Test accuracy: 0.8415147066116333\n"
     ]
    }
   ],
   "source": [
    "# Evaluating the model on test data\n",
    "scores=model.evaluate(X_final, y_final,verbose=1)\n",
    "print('Test loss:', scores[0])\n",
    "print('Test accuracy:', scores[1])"
   ]
  },
  {
   "cell_type": "code",
   "execution_count": 232,
   "metadata": {
    "colab": {
     "base_uri": "https://localhost:8080/"
    },
    "executionInfo": {
     "elapsed": 200,
     "status": "ok",
     "timestamp": 1615158297324,
     "user": {
      "displayName": "Anupam Vaish",
      "photoUrl": "",
      "userId": "05967575612017638343"
     },
     "user_tz": 420
    },
    "id": "5se9ZzfcfZ0_",
    "outputId": "14661df6-b4d2-4bed-ae29-dbdc41ff735c"
   },
   "outputs": [
    {
     "name": "stdout",
     "output_type": "stream",
     "text": [
      "[ 0  2 11  7  0  0  7  1  3  5  7  1  3  0  3  1  2  4  2  4  5  1  6 11\n",
      "  2  8  6  3  2  2  0  9  6  0 11 11  1  3  4  8  5  7 10  0  6  7 10 10\n",
      "  3 11  0  5 11 11  8  1 10 10  3  3  2  3  4  5  9  5  6  1  1  4  3  4\n",
      "  2  2  9  6  3  1  1  9  0  2  4  3  2  3  2  7 11  4  8  4 11  9  5  7\n",
      "  7  1  4  4  3  4  0  3  2  0  2  5  1  0  1  7  5  7  2 10  7  1  6  5\n",
      "  0  0  3  0  3 10  5  5  3  3  3  0  5  0  0  3  7 10  4  4  1  1  2  0\n",
      "  0  8  0  1  4 11  1  6  9  1  4  0 10 10 10  6 11  3  9  0  9  6 10 11\n",
      "  1  6  2  3  3  0  0  2  4  2  0  6  4  0  0  8  4  6  8  4  4  0  0  1\n",
      "  6  0  0  4  1  1  1  2  0  6  9  1  5  0  0  3  3 11  0  1  0 10  6 10\n",
      "  1  7  1  0  3  0  4  6  8  1  6  4  0  1  3  3  3  1  0 10 10  4  4  4\n",
      "  0  3  1  8  1  1  3  1 11 10  7  8  3  0  4  0  3  7  3  1  4  0  5  0\n",
      "  6  9 10  3  3  7  4  3  0  4  3  2  1  2  9  0  4  1  1  2  0  0 11  8\n",
      "  0  1  4  0  7  0  5  0  9  6  1  0  2  2  2 11  3  1  4  1  4  1  1  3\n",
      "  0  0  0  0  9  0  3  1  1 10  0  1 11  2 11  4  2  1  4  7  7  0  1  3\n",
      "  4  8  1  7  2  6  5  7  2  0  1 11  1  0  0  1  1  6  0  0  0 11  3  6\n",
      "  3  1  4  5  7  3  0  0  8  2  0  2  4  3  1  2  8  0  2 11 10  9  7  4\n",
      "  2  3  1  3  2  6  4  4  1  3  7  9  1  3  6  2 11  4  5  0  0  6  3  2\n",
      "  6  0  0  0  4  7  1 11 11  1  5  3  6  3  2  3  5  2  7  3 10  4  0  7\n",
      "  3  0  1  7  0  7  9  0  0  7  3  4  0  0  4  2  7  2  6  5  4  1  6  0\n",
      "  4  1  4  5  3  1  1  2 11  5  2  9  2  5  6  1  8  1  0  4  1 10  0  0\n",
      "  2  2  7  1  7  1  2 11  6  4  2  0  1  7  4 10  8  4  1  3  7 10  5  0\n",
      "  3  2  8  5  0 10  1  2  0  0  0  4  4  1  1  5 11  5  7  0  3  3  0  4\n",
      "  3  3  4  1  8  3  3  0  3 10  2  7  4  0  4  2  1  0  4  7  1  4  7  2\n",
      "  1 11  5  7  4  2  0  2  1  4  8  8  2  0  1  1  7  2  1  0  4  2  6  0\n",
      "  1  6  2  0 10  5  0  0  3  5  3  1  1  7  7  0  4  4  1  3  8  1  7 11\n",
      "  4  4  3  0  4  6  3  4  0  4  5 10  9  2  8  3  2  3  1  2  0  0 11  4\n",
      "  1  4  3  8  2  1  1  7 11  5  1  5  0  8 11  6  7  8  3  1  1  0  5 10\n",
      "  1  2  1 10  0  3 10  6  7  1  3  4  0 11  1  5  6  5  1  1  0 11  0  3\n",
      "  2  3  7  7  3  0  2 10  2  5  3  3  0  6  1  0  0  3  1  7  7  6  0  9\n",
      "  9  0  2  4  6  9 11  1  3  0  0  3  2  0  4  0  4]\n"
     ]
    },
    {
     "name": "stderr",
     "output_type": "stream",
     "text": [
      "/usr/local/lib/python3.7/dist-packages/tensorflow/python/keras/engine/sequential.py:450: UserWarning: `model.predict_classes()` is deprecated and will be removed after 2021-01-01. Please use instead:* `np.argmax(model.predict(x), axis=-1)`,   if your model does multi-class classification   (e.g. if it uses a `softmax` last-layer activation).* `(model.predict(x) > 0.5).astype(\"int32\")`,   if your model does binary classification   (e.g. if it uses a `sigmoid` last-layer activation).\n",
      "  warnings.warn('`model.predict_classes()` is deprecated and '\n"
     ]
    }
   ],
   "source": [
    "# Getting the Predicted classes for Test Data \n",
    "y_fpred = model.predict_classes(X_final)\n",
    "print(y_fpred)\n",
    "rounded_test_labels = np.argmax(y_final, axis=1)"
   ]
  },
  {
   "cell_type": "markdown",
   "metadata": {
    "id": "UEaC-2oy7_WS"
   },
   "source": [
    "### Printing Confusion Matrix"
   ]
  },
  {
   "cell_type": "code",
   "execution_count": 233,
   "metadata": {
    "colab": {
     "base_uri": "https://localhost:8080/"
    },
    "executionInfo": {
     "elapsed": 186,
     "status": "ok",
     "timestamp": 1615158384618,
     "user": {
      "displayName": "Anupam Vaish",
      "photoUrl": "",
      "userId": "05967575612017638343"
     },
     "user_tz": 420
    },
    "id": "ApgJJVbWfN1f",
    "outputId": "1de0943b-2ee9-47de-ecaa-5b7d1d4fe227"
   },
   "outputs": [
    {
     "name": "stdout",
     "output_type": "stream",
     "text": [
      "=== Confusion Matrix ===\n",
      "[[87  1  0  0  4  0  0  0  6  0  0  0]\n",
      " [ 0 89  0  1  1  0  0  0  0  1  1  0]\n",
      " [ 3  5 65  0  1  0  1  0  0  1  0  0]\n",
      " [ 1  3  0 75  0  0  0  0  0  0  0  0]\n",
      " [ 2  1  2  7 67  1  0  0  0  0  0  0]\n",
      " [ 0  0  0  1  0 36  0  2  0  0  0  1]\n",
      " [ 0  0  0  0  1  0 39  0  1  0  0  2]\n",
      " [ 0  0  0  1  0  1  0 49  0  0  0  0]\n",
      " [32  0  1  0  0  0  0  0 11  0  0  0]\n",
      " [ 0  6  1  2  0  0  0  0  0 19  0  0]\n",
      " [ 2  0  0  0  5  0  0  0  7  0 31  0]\n",
      " [ 0  1  1  0  0  1  1  0  0  0  0 32]]\n"
     ]
    }
   ],
   "source": [
    "print(\"=== Confusion Matrix ===\")\n",
    "cm = confusion_matrix(rounded_test_labels, y_fpred)\n",
    "print(cm)"
   ]
  },
  {
   "cell_type": "code",
   "execution_count": 234,
   "metadata": {
    "colab": {
     "base_uri": "https://localhost:8080/",
     "height": 442
    },
    "executionInfo": {
     "elapsed": 919,
     "status": "ok",
     "timestamp": 1615158387215,
     "user": {
      "displayName": "Anupam Vaish",
      "photoUrl": "",
      "userId": "05967575612017638343"
     },
     "user_tz": 420
    },
    "id": "qwXfiDlXflum",
    "outputId": "a19eb368-6ac5-451b-d9be-fe690d942d86"
   },
   "outputs": [
    {
     "data": {
      "image/png": "[encoded data removed]",
      "text/plain": [
       "<Figure size 720x504 with 2 Axes>"
      ]
     },
     "metadata": {
      "needs_background": "light",
      "tags": []
     },
     "output_type": "display_data"
    }
   ],
   "source": [
    "df_cm = pd.DataFrame(cm, index = [i for i in {0,1,2,3,4,5,6,7,8,9,10,11}],\n",
    "                     columns = [i for i in {0,1,2,3,4,5,6,7,8,9,10,11}])\n",
    "plt.figure(figsize = (10,7))\n",
    "sns.heatmap(df_cm, annot=True, fmt='d')\n",
    "plt.ylabel('Observed Values')\n",
    "plt.xlabel('Predicted Values')\n",
    "plt.show()"
   ]
  },
  {
   "cell_type": "markdown",
   "metadata": {
    "id": "LMTZRjbyflTx"
   },
   "source": [
    "### Printing Classification Report"
   ]
  },
  {
   "cell_type": "code",
   "execution_count": 235,
   "metadata": {
    "colab": {
     "base_uri": "https://localhost:8080/"
    },
    "executionInfo": {
     "elapsed": 231,
     "status": "ok",
     "timestamp": 1615158418133,
     "user": {
      "displayName": "Anupam Vaish",
      "photoUrl": "",
      "userId": "05967575612017638343"
     },
     "user_tz": 420
    },
    "id": "TlBN0sp3ptA5",
    "outputId": "b36f2a09-a047-4b71-e097-e199bc22577c"
   },
   "outputs": [
    {
     "name": "stdout",
     "output_type": "stream",
     "text": [
      "=== Classification Report ===\n",
      "              precision    recall  f1-score   support\n",
      "\n",
      "           0       0.69      0.89      0.77        98\n",
      "           1       0.84      0.96      0.89        93\n",
      "           2       0.93      0.86      0.89        76\n",
      "           3       0.86      0.95      0.90        79\n",
      "           4       0.85      0.84      0.84        80\n",
      "           5       0.92      0.90      0.91        40\n",
      "           6       0.95      0.91      0.93        43\n",
      "           7       0.96      0.96      0.96        51\n",
      "           8       0.44      0.25      0.32        44\n",
      "           9       0.90      0.68      0.78        28\n",
      "          10       0.97      0.69      0.81        45\n",
      "          11       0.91      0.89      0.90        36\n",
      "\n",
      "    accuracy                           0.84       713\n",
      "   macro avg       0.85      0.81      0.83       713\n",
      "weighted avg       0.84      0.84      0.83       713\n",
      "\n"
     ]
    }
   ],
   "source": [
    "print(\"=== Classification Report ===\")\n",
    "print(classification_report(rounded_test_labels, y_fpred))"
   ]
  },
  {
   "cell_type": "markdown",
   "metadata": {
    "id": "pxdldjgO8bSO"
   },
   "source": [
    "### Visualize Predictions"
   ]
  },
  {
   "cell_type": "code",
   "execution_count": 124,
   "metadata": {
    "colab": {
     "base_uri": "https://localhost:8080/",
     "height": 283
    },
    "executionInfo": {
     "elapsed": 284,
     "status": "ok",
     "timestamp": 1615151592691,
     "user": {
      "displayName": "Anupam Vaish",
      "photoUrl": "",
      "userId": "05967575612017638343"
     },
     "user_tz": 420
    },
    "id": "xe9MnpE8DCAQ",
    "outputId": "9952872e-8877-46ca-ad0c-7e229f342551"
   },
   "outputs": [
    {
     "name": "stdout",
     "output_type": "stream",
     "text": [
      "('pred--', 11, ',Actual--', 11)\n"
     ]
    },
    {
     "data": {
      "image/png": "[encoded data removed]",
      "text/plain": [
       "<Figure size 432x288 with 1 Axes>"
      ]
     },
     "metadata": {
      "needs_background": "light",
      "tags": []
     },
     "output_type": "display_data"
    }
   ],
   "source": [
    "# X_final[2]\n",
    "plt.imshow(X_final[2])\n",
    "Title=\"pred--\",y_fpred[2],\",Actual--\",rounded_test_labels[2]\n",
    "print(Title)"
   ]
  },
  {
   "cell_type": "code",
   "execution_count": 125,
   "metadata": {
    "colab": {
     "base_uri": "https://localhost:8080/",
     "height": 283
    },
    "executionInfo": {
     "elapsed": 292,
     "status": "ok",
     "timestamp": 1615151601323,
     "user": {
      "displayName": "Anupam Vaish",
      "photoUrl": "",
      "userId": "05967575612017638343"
     },
     "user_tz": 420
    },
    "id": "xe91quUVDVDe",
    "outputId": "26cf418d-29fe-45bb-b36a-2f919a8b6284"
   },
   "outputs": [
    {
     "name": "stdout",
     "output_type": "stream",
     "text": [
      "('pred--', 7, ',Actual--', 7)\n"
     ]
    },
    {
     "data": {
      "image/png": "[encoded data removed]",
      "text/plain": [
       "<Figure size 432x288 with 1 Axes>"
      ]
     },
     "metadata": {
      "needs_background": "light",
      "tags": []
     },
     "output_type": "display_data"
    }
   ],
   "source": [
    "# X_final[3]\n",
    "plt.imshow(X_final[3],cmap='gray')\n",
    "Title=\"pred--\",y_fpred[3],\",Actual--\",rounded_test_labels[3]\n",
    "print(Title)"
   ]
  },
  {
   "cell_type": "code",
   "execution_count": 126,
   "metadata": {
    "colab": {
     "base_uri": "https://localhost:8080/",
     "height": 283
    },
    "executionInfo": {
     "elapsed": 270,
     "status": "ok",
     "timestamp": 1615151610769,
     "user": {
      "displayName": "Anupam Vaish",
      "photoUrl": "",
      "userId": "05967575612017638343"
     },
     "user_tz": 420
    },
    "id": "lMdT41fLFk9-",
    "outputId": "0834edc2-e6cd-4471-9552-2037aa9c3869"
   },
   "outputs": [
    {
     "name": "stdout",
     "output_type": "stream",
     "text": [
      "('pred--', 8, ',Actual--', 8)\n"
     ]
    },
    {
     "data": {
      "image/png": "[encoded data removed]",
      "text/plain": [
       "<Figure size 432x288 with 1 Axes>"
      ]
     },
     "metadata": {
      "needs_background": "light",
      "tags": []
     },
     "output_type": "display_data"
    }
   ],
   "source": [
    "# X_final[33]\n",
    "plt.imshow(X_final[33],cmap='gray')\n",
    "Title=\"pred--\",y_fpred[33],\",Actual--\",rounded_test_labels[33]\n",
    "print(Title)"
   ]
  },
  {
   "cell_type": "code",
   "execution_count": 127,
   "metadata": {
    "colab": {
     "base_uri": "https://localhost:8080/",
     "height": 283
    },
    "executionInfo": {
     "elapsed": 278,
     "status": "ok",
     "timestamp": 1615151621419,
     "user": {
      "displayName": "Anupam Vaish",
      "photoUrl": "",
      "userId": "05967575612017638343"
     },
     "user_tz": 420
    },
    "id": "WT7u5NS6Fqol",
    "outputId": "55afae44-0a9b-40af-be17-6eb63364c82b"
   },
   "outputs": [
    {
     "name": "stdout",
     "output_type": "stream",
     "text": [
      "('pred--', 1, ',Actual--', 1)\n"
     ]
    },
    {
     "data": {
      "image/png": "[encoded data removed]",
      "text/plain": [
       "<Figure size 432x288 with 1 Axes>"
      ]
     },
     "metadata": {
      "needs_background": "light",
      "tags": []
     },
     "output_type": "display_data"
    }
   ],
   "source": [
    "# X_final[36]\n",
    "plt.imshow(X_final[36],cmap='gray')\n",
    "Title=\"pred--\",y_fpred[36],\",Actual--\",rounded_test_labels[36]\n",
    "print(Title)"
   ]
  },
  {
   "cell_type": "code",
   "execution_count": 128,
   "metadata": {
    "colab": {
     "base_uri": "https://localhost:8080/",
     "height": 283
    },
    "executionInfo": {
     "elapsed": 280,
     "status": "ok",
     "timestamp": 1615151628763,
     "user": {
      "displayName": "Anupam Vaish",
      "photoUrl": "",
      "userId": "05967575612017638343"
     },
     "user_tz": 420
    },
    "id": "gXuXOCvEFv9I",
    "outputId": "4d08628c-9f72-4ba9-d6fa-a9be83488922"
   },
   "outputs": [
    {
     "name": "stdout",
     "output_type": "stream",
     "text": [
      "('pred--', 3, ',Actual--', 3)\n"
     ]
    },
    {
     "data": {
      "image/png": "[encoded data removed]",
      "text/plain": [
       "<Figure size 432x288 with 1 Axes>"
      ]
     },
     "metadata": {
      "needs_background": "light",
      "tags": []
     },
     "output_type": "display_data"
    }
   ],
   "source": [
    "# X_final[59]\n",
    "plt.imshow(X_final[59],cmap='gray')\n",
    "Title=\"pred--\",y_fpred[59],\",Actual--\",rounded_test_labels[59]\n",
    "print(Title)"
   ]
  }
 ],
 "metadata": {
  "accelerator": "GPU",
  "colab": {
   "authorship_tag": "ABX9TyMOEqTck9OVGeNzxO+d3C9e",
   "collapsed_sections": [],
   "name": "PlantSeedlingClassification.ipynb",
   "provenance": []
  },
  "kernelspec": {
   "display_name": "Python 3",
   "language": "python",
   "name": "python3"
  },
  "language_info": {
   "codemirror_mode": {
    "name": "ipython",
    "version": 3
   },
   "file_extension": ".py",
   "mimetype": "text/x-python",
   "name": "python",
   "nbconvert_exporter": "python",
   "pygments_lexer": "ipython3",
   "version": "3.8.2"
  }
 },
 "nbformat": 4,
 "nbformat_minor": 1
}
